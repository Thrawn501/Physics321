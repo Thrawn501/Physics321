{
 "cells": [
  {
   "cell_type": "markdown",
   "metadata": {},
   "source": [
    "<!-- dom:TITLE: PHY321: Classical Mechanics 1 -->\n",
    "# PHY321: Classical Mechanics 1\n",
    "<!-- dom:AUTHOR: Solution Homework 1, Spring 2021 -->\n",
    "<!-- Author: -->  \n",
    "**Solution Homework 1, Spring 2021**\n",
    "\n",
    "Date: **Jan 17, 2021**\n",
    "\n",
    "## Exercise 1 (10 pt), math reminder, properties of exponential function\n",
    "\n",
    "The first exercise is meant to remind ourselves about properties of\n",
    "the exponential function and imaginary numbers. This is highly\n",
    "relevant later in this course when we start analyzing oscillatory\n",
    "motion and some wave mechanics. As physicists we should thus feel comfortable with expressions that\n",
    "include $\\exp{(\\imath\\omega t)}$. Here $t$ could be interpreted as time and $\\omega$ as a frequency and $\\imath$ is the imaginary unit number.\n",
    "\n",
    "### 1a (2pt), solution:\n",
    "\n",
    "Perform Taylor expansions in powers of $\\omega t$ of the functions\n",
    "$\\cos{(\\omega t)}$ and $\\sin{(\\omega t)}$.\n",
    "We have"
   ]
  },
  {
   "cell_type": "markdown",
   "metadata": {},
   "source": [
    "$$\n",
    "\\cos{(\\omega t)} = \\sum_{n=0}^{\\infty}\\left(-1\\right)^n \\frac{(\\omega t)^{2n}}{(2n)!}=1-\\frac{(\\omega t)^{2}}{2!}+\\frac{(\\omega t)^{4}}{4!}-\\dots,\n",
    "$$"
   ]
  },
  {
   "cell_type": "markdown",
   "metadata": {},
   "source": [
    "and"
   ]
  },
  {
   "cell_type": "markdown",
   "metadata": {},
   "source": [
    "$$\n",
    "\\sin{(\\omega t)} = \\sum_{n=0}^{\\infty}\\left(-1\\right)^n \\frac{(\\omega t)^{2n+1}}{(2n+1)!}=\\omega t-\\frac{(\\omega t)^{3}}{3!}+\\frac{(\\omega t)^{5}}{5!}-\\dots,\n",
    "$$"
   ]
  },
  {
   "cell_type": "markdown",
   "metadata": {},
   "source": [
    "### 1b (2pt), solution:\n",
    "\n",
    "Perform a Taylor expansion of $\\exp{(\\imath\\omega t)}$.\n",
    "We have then"
   ]
  },
  {
   "cell_type": "markdown",
   "metadata": {},
   "source": [
    "$$\n",
    "\\exp{(\\imath\\omega t)} = \\sum_{n=0}^{\\infty}\\frac{(\\imath\\omega t)^{n}}{(n)!}=1+\\omega t+\\frac{(\\imath\\omega t)^{2}}{2!}+\\frac{(\\imath\\omega t)^{3}}{3!}+\\frac{(\\imath\\omega t)^{4}}{4!}+\\frac{(\\imath\\omega t)^{5}}{5!}+\\dots.\n",
    "$$"
   ]
  },
  {
   "cell_type": "markdown",
   "metadata": {},
   "source": [
    "### 1c (3pt), solution:\n",
    "\n",
    "Using parts (a) and (b) here, show that $\\exp{(\\imath\\omega t)}=\\cos{(\\omega t)}+\\imath\\sin{(\\omega t)}$.\n",
    "\n",
    "Using $\\imath^2=-1$ we can rewrite the last results as"
   ]
  },
  {
   "cell_type": "markdown",
   "metadata": {},
   "source": [
    "$$\n",
    "\\begin{align*}\n",
    "\\exp{(\\omega t)} = & \\sum_{n=0}^{\\infty}\\frac{(\\omega t)^{n}}{(n)!}=1+\\omega t\\frac{(\\omega t)^{2}}{2!}+\\frac{(\\omega t)^{3}}{3!}+\\frac{(\\omega t)^{4}}{4!}+\\frac{(\\omega t)^{5}}{5!}+\\dots\\\\\n",
    "=& \\left(1-\\frac{(\\omega t)^{2}}{2!}+\\frac{(\\omega t)^{4}}{4!}-\\dots\\right)+\\left(\\omega t-\\frac{(\\omega t)^{3}}{3!}+\\frac{(\\omega t)^{5}}{5!}-\\dots\\right)\\\\\n",
    "= & \\cos{(\\omega t)}+\\imath\\sin{(\\omega t)}.\n",
    "\\end{align*}\n",
    "$$"
   ]
  },
  {
   "cell_type": "markdown",
   "metadata": {},
   "source": [
    "### 1d (3pt), solution:\n",
    "\n",
    "Show that $\\ln{(−1)} = \\imath\\pi$.\n",
    "\n",
    "Let $\\omega t = \\pi$, we get"
   ]
  },
  {
   "cell_type": "markdown",
   "metadata": {},
   "source": [
    "$$\n",
    "\\exp{(\\imath\\pi)}=\\cos{(\\pi)}+\\imath\\sin{(\\pi)}=-1.\n",
    "$$"
   ]
  },
  {
   "cell_type": "markdown",
   "metadata": {},
   "source": [
    "## Exercise 2 (10 pt), Vector algebra\n",
    "\n",
    "### 2a (4pt), solution\n",
    "\n",
    "One of the many uses of the scalar product is to find the angle\n",
    "between two given vectors. Find the angle between the vectors\n",
    "$\\boldsymbol{a}=(1,2,4)$ and $\\boldsymbol{b}=(4,2,1)$ by evaluating their scalar\n",
    "product.\n",
    "\n",
    "The vector product is given by"
   ]
  },
  {
   "cell_type": "markdown",
   "metadata": {},
   "source": [
    "$$\n",
    "\\boldsymbol{a}\\boldsymbol{b} = \\vert \\boldsymbol{a} \\vert \\vert \\boldsymbol{b} \\vert \\cos{\\theta_{ab}}.\n",
    "$$"
   ]
  },
  {
   "cell_type": "markdown",
   "metadata": {},
   "source": [
    "We have"
   ]
  },
  {
   "cell_type": "markdown",
   "metadata": {},
   "source": [
    "$$\n",
    "\\boldsymbol{a}^T\\boldsymbol{b} = 1\\dot 4 \\boldsymbol{e}_1\\boldsymbol{e}_1+ 2\\dot 2\\boldsymbol{e}_2\\boldsymbol{e}_2+ 4\\dot 1\\boldsymbol{e}_3\\boldsymbol{e}_3= 4+4+4=12,\n",
    "$$"
   ]
  },
  {
   "cell_type": "markdown",
   "metadata": {},
   "source": [
    "since $\\boldsymbol{e}_i\\boldsymbol{e}_i=1$ for our unit vectors, with $i=1,2,3$. Note also that the unit vectors are orthogonal, that is $\\boldsymbol{e}_i\\boldsymbol{e}_j=0$ if $i\\ne j$.\n",
    "The norm of $\\vert \\boldsymbol{a}\\vert^2 = 1+4+ 16=21$. The norm of $\\vert \\boldsymbol{b}\\vert^2 = 16+4+ 1=21$. This means we have"
   ]
  },
  {
   "cell_type": "markdown",
   "metadata": {},
   "source": [
    "$$\n",
    "12 = 21 \\cos{\\theta_{ab}},\n",
    "$$"
   ]
  },
  {
   "cell_type": "markdown",
   "metadata": {},
   "source": [
    "leading to $\\cos{\\theta_{ab}}=12/21$ and $\\theta_{ab}=0.9625$ rad, with $1$ rad being equal to $180/pi$. Thus we have   $\\theta_{ab}=55.15$ degrees.\n",
    "\n",
    "A small digression on linear algebra useful for python programming of vectors.\n",
    "We define the vectors as one-dimensional arrays meaning that we write\n",
    "$\\boldsymbol{a}^T=\\begin{bmatrix} 1 & 2 & 4\\end{bmatrix}$ and  $\\boldsymbol{b}^T=\\begin{bmatrix} 4 & 2 & 1\\end{bmatrix}$, where we use $T$ to indicate the transpose of a vector.\n",
    "\n",
    "We would then write the dot product as"
   ]
  },
  {
   "cell_type": "markdown",
   "metadata": {},
   "source": [
    "$$\n",
    "\\boldsymbol{a}^T\\boldsymbol{b}=\\begin{bmatrix} 1 & 2 & 4\\end{bmatrix}\\begin{bmatrix} 4 \\\\ 2 \\\\ 1\\end{bmatrix}=12.\n",
    "$$"
   ]
  },
  {
   "cell_type": "markdown",
   "metadata": {},
   "source": [
    "In Python we would code this as"
   ]
  },
  {
   "cell_type": "code",
   "execution_count": 1,
   "metadata": {},
   "outputs": [],
   "source": [
    "# we import numpy and math functions\n",
    "import numpy as np\n",
    "from math import acos, sqrt, pi\n",
    "# Define a\n",
    "a =np.array([1,2,4])\n",
    "# Define b \n",
    "b =np.array([4,2,1])\n",
    "# to compute the dot products we use the dot function or the multiplication sign @\n",
    "norm_a = sqrt(np.dot(a,a))  # we could write it as a.T @ a or just a @ a\n",
    "# We will stick with the @ operator hereafter when we multiply vector or matrices\n",
    "norm_b = sqrt(b.T @ b)\n",
    "dot_ab = a.T @ b\n",
    "theta_ab = acos(dot_ab/(norm_a*norm_b))\n",
    "# convert to degrees\n",
    "print(theta_ab*180/pi)"
   ]
  },
  {
   "cell_type": "markdown",
   "metadata": {},
   "source": [
    "### 2b (6pt), solution\n",
    "\n",
    "For a cube with sides of length 1, one vertex at the origin, and sides\n",
    "along the $x$, $y$, and $z$ axes, the vector of the body diagonal from\n",
    "the origin can be written $\\boldsymbol{a}=(1, 1, 1)$ and the vector of the\n",
    "face diagonal in the $xy$ plane from the origin is\n",
    "$\\boldsymbol{b}=(1,1,0)$. Find first the lengths of the body diagonal and the\n",
    "face diagonal. Use then part (2a) to find the angle between the body\n",
    "diagonal and the face diagonal.\n",
    "\n",
    "The length of the body diagonal $\\vert\\boldsymbol{b}\\vert=\\sqrt{3}$ and the length of the face diagonal is $\\vert \\boldsymbol{f}\\vert = \\sqrt{2}$. From this we find"
   ]
  },
  {
   "cell_type": "markdown",
   "metadata": {},
   "source": [
    "$$\n",
    "\\boldsymbol{b}^T\\boldsymbol{f}=2=\\sqrt{2}\\sqrt{3}\\cos{\\theta_{bf}},\n",
    "$$"
   ]
  },
  {
   "cell_type": "markdown",
   "metadata": {},
   "source": [
    "leading to $\\cos{\\theta_{bf}}=\\sqrt{2}/\\sqrt{3}$ and $\\theta_{bf}=0.615$ rad or\n",
    "$\\theta_{bf}=35.3$ degrees.\n",
    "\n",
    "\n",
    "\n",
    "## Exercise 3 (10 pt), More vector mathematics\n",
    "\n",
    "### 3a (5pt), solution\n",
    "\n",
    "Show (using the fact that multiplication of reals is distributive)\n",
    "that $\\boldsymbol{a}(\\boldsymbol{b}+\\boldsymbol{c})=\\boldsymbol{a}\\boldsymbol{b}+\\boldsymbol{a}\\boldsymbol{c}$.\n",
    "\n",
    "Writing out the equations and keeping in mind that the norm of unit vectors is one, we have"
   ]
  },
  {
   "cell_type": "markdown",
   "metadata": {},
   "source": [
    "$$\n",
    "\\begin{align*}\n",
    "\\boldsymbol{a}(\\boldsymbol{b}+\\boldsymbol{c})=& a_1(b_1+c_1)+a_2(b_2+c_2)+a_3(b_3+c_3)\\\\\n",
    "=& (a_1b_1+a_1c_1)+(a_2b_2+a_2c_2)+(a_3b_3+a_3c_3)\\\\\n",
    "= & (a_1b_1+a_2b_2+a_3b_3)+(a_1c_1+a_2c_2+a_3c_3)\\\\\n",
    "= & \\boldsymbol{a}\\boldsymbol{b}+\\boldsymbol{a}\\boldsymbol{c}. \n",
    "\\end{align*}\n",
    "$$"
   ]
  },
  {
   "cell_type": "markdown",
   "metadata": {},
   "source": [
    "### 3b (5pt), solution\n",
    "\n",
    "Show that (using product rule for differentiating reals)\n",
    "$\\frac{d}{dt}(\\boldsymbol{a}\\boldsymbol{b})=\\boldsymbol{a}\\frac{d\\boldsymbol{b}}{dt}+\\boldsymbol{b}\\frac{d\\boldsymbol{a}}{dt}$."
   ]
  },
  {
   "cell_type": "markdown",
   "metadata": {},
   "source": [
    "$$\n",
    "\\begin{align*}\n",
    "\\frac{d}{dt}(\\boldsymbol{a}\\boldsymbol{b})=& a_1(b_1+c_1)+a_2(b_2+c_2)+a_3(b_3+c_3)\\\\\n",
    "=& (a_1b_1+a_1c_1)+(a_2b_2+a_2c_2)+(a_3b_3+a_3c_3)\\\\\n",
    "= & (a_1b_1+a_2b_2+a_3b_3)+(a_1c_1+a_2c_2+a_3c_3)\\\\\n",
    "= & \\boldsymbol{a}\\boldsymbol{b}+\\boldsymbol{a}\\boldsymbol{c}. \n",
    "\\end{align*}\n",
    "$$"
   ]
  },
  {
   "cell_type": "markdown",
   "metadata": {},
   "source": [
    "## Exercise 4 (10 pt), Algebra of cross products\n",
    "\n",
    "### 4a (5pt)\n",
    "\n",
    "Show that the cross products are distribuitive\n",
    "$\\boldsymbol{a}\\times(\\boldsymbol{b}+\\boldsymbol{c})=\\boldsymbol{a}\\times\\boldsymbol{b}+\\boldsymbol{a}\\times\\boldsymbol{c}$.\n",
    "\n",
    "### 4b (5pt)\n",
    "\n",
    "Show that\n",
    "$\\frac{d}{dt}(\\boldsymbol{a}\\times\\boldsymbol{b})=\\boldsymbol{a}\\times\\frac{d\\boldsymbol{b}}{dt}+\\boldsymbol{b}\\times\\frac{d\\boldsymbol{a}}{dt}$. Be\n",
    "careful with the order of factors\n",
    "\n",
    "\n",
    "## Exercise 5 (10 pt), Area of triangle and law of sines\n",
    "\n",
    "Exercise 1.18 in the textbook of Taylor, Classical Mechanics. Part\n",
    "(1.18a) gives 5pt and part (1.18b) gives also 5pt.\n",
    "\n",
    "## Exercise 6 (10pt), Matrices and rotations in the $xy$ plane\n",
    "\n",
    "The rotation of a three-dimensional vector $\\boldsymbol{a}=(a_x,a_y,a_z)$ in\n",
    "the $xy$ plane around an angle $\\phi$ results in a new vector\n",
    "$\\boldsymbol{b}=(b_x,b_y,b_z)$.  This operation can be expressed in terms of\n",
    "linear algebra as a matrix (the rotation matrix) multiplied with a\n",
    "vector. We can write this as"
   ]
  },
  {
   "cell_type": "markdown",
   "metadata": {},
   "source": [
    "$$\n",
    "\\begin{bmatrix} b_x \\\\ b_y \\\\ b_z \\end{bmatrix} = \\begin{bmatrix} \\cos{\\phi} & \\sin{\\phi} & 0 \\\\ -\\sin{\\phi} & \\cos{\\phi} & 0 \\\\ 0 & 0 & 1\\end{bmatrix}\\begin{bmatrix} a_x \\\\ a_y \\\\ a_z \\end{bmatrix}.\n",
    "$$"
   ]
  },
  {
   "cell_type": "markdown",
   "metadata": {},
   "source": [
    "We can write this in a more compact form as $\\boldsymbol{b} = \\boldsymbol{R}\\boldsymbol{a}$,\n",
    "where the rotation matrix is defined as"
   ]
  },
  {
   "cell_type": "markdown",
   "metadata": {},
   "source": [
    "$$\n",
    "\\boldsymbol{R} = \\begin{bmatrix} \\cos{\\phi} & \\sin{\\phi} & 0 \\\\ -\\sin{\\phi} & \\cos{\\phi} & 0 \\\\ 0 & 0 & 1\\end{bmatrix}.\n",
    "$$"
   ]
  },
  {
   "cell_type": "markdown",
   "metadata": {},
   "source": [
    "* 6a (4pt) Find the transpose of the matrix $\\boldsymbol{R}$. We label this as $\\boldsymbol{R}^T$.\n",
    "\n",
    "* 6b (4pt)  This matrix is a so-called unitary/orthogonal matrix.  Show that $\\boldsymbol{R}^T\\boldsymbol{R}= \\boldsymbol{I}$ where $\\boldsymbol{I}$ is the so-called identity matrix with ones only along the diagonal. How would you interpret this result? For example, are scalar products changed under this transformations?\n",
    "\n",
    "* 6c (2pt) Find the matrix for rotating a coordinate system by $90$ degrees about the $x$-axis.\n",
    "\n",
    "## Exercise 7 (40pt), Numerical elements, getting started with some simple data\n",
    "\n",
    "\n",
    "Our first numerical attempt will involve reading data from file or\n",
    "just setting up two vectors, one for position and one for time. Our data are from \n",
    "[Usain Bolt's world record 100m during the olympic games in Beijing in\n",
    "2008](https://www.youtube.com/watch?v=93dC0o2aHto). The data show the time used in units of 10m (see below). Before we however\n",
    "venture into this, we need to repeat some basic Python syntax with an\n",
    "emphasis on\n",
    "\n",
    "* basic Python syntax for arrays\n",
    "\n",
    "* define and operate on vectors and matrices in Python\n",
    "\n",
    "* create plots for motion in 1D space\n",
    "\n",
    "For more information, see the [introductory slides](https://mhjensen.github.io/Physics321/doc/pub/Introduction/html/Introduction.html).\n",
    "Here are some of the basic packages we will be using this week"
   ]
  },
  {
   "cell_type": "code",
   "execution_count": 1,
   "metadata": {},
   "outputs": [],
   "source": [
    "%matplotlib inline\n",
    "\n",
    "import numpy as np \n",
    "import matplotlib.pyplot as plt\n",
    "%matplotlib inline"
   ]
  },
  {
   "cell_type": "markdown",
   "metadata": {},
   "source": [
    "The first exercise here deals with simply getting familiar with vectors and matrices.\n",
    "\n",
    "We will be working with vectors and matrices to get you familiar with them\n",
    "\n",
    "1. Initalize two three-dimensional $xyz$ vectors in the below cell using np.array([x,y,z]). Vectors are represented through arrays in python\n",
    "\n",
    "2. V1 should have x1=1, y1 =2, and z1=3. \n",
    "\n",
    "3. Vector 2 should have x2=4, y2=5,  and z2=6. \n",
    "\n",
    "4. Print both vectors to make sure your code is working properly."
   ]
  },
  {
   "cell_type": "code",
   "execution_count": 2,
   "metadata": {},
   "outputs": [
    {
     "name": "stdout",
     "output_type": "stream",
     "text": [
      "V1:  [1 2 3]\n",
      "V2:  [4 5 6]\n"
     ]
    }
   ],
   "source": [
    "V1 = np.array([1,2,3])\n",
    "V2 = np.array([4,5,6])\n",
    "print(\"V1: \", V1)\n",
    "print(\"V2: \", V2)"
   ]
  },
  {
   "cell_type": "markdown",
   "metadata": {},
   "source": [
    "If this is not too familiar, here's a useful link for creating vectors in python <https://docs.scipy.org/doc/numpy-1.13.0/user/basics.creation.html>. Alternatively, look up the [introductory slides](https://mhjensen.github.io/Physics321/doc/pub/Introduction/html/Introduction.html).\n",
    "\n",
    "Now lets do some basic mathematics with vectors.\n",
    "\n",
    "\n",
    "Compute and print the following, and double check with hand calculations:\n",
    "\n",
    "* 7a (2pt)  Calculate $\\boldsymbol{V}_1-\\boldsymbol{V}_2$.\n",
    "\n",
    "* 7b (2pt)  Calculate $\\boldsymbol{V}_2-\\boldsymbol{V}_1$.\n",
    "\n",
    "* 7c (2pt) Calculate the dot product $\\boldsymbol{V}_1\\boldsymbol{V}_2$.\n",
    "\n",
    "* 7d (2pt) Calculate the cross product $\\boldsymbol{V}_1\\times\\boldsymbol{V}_2$.\n",
    "\n",
    "Here is some useful explanation on numpy array operations if you feel a bit confused by what is happening, see < URL: >https://www.pluralsight.com/guides/overview-basic-numpy-operations\"\"\n",
    "\n",
    "The following code prints the first two exercises"
   ]
  },
  {
   "cell_type": "code",
   "execution_count": 3,
   "metadata": {},
   "outputs": [
    {
     "name": "stdout",
     "output_type": "stream",
     "text": [
      "[-3 -3 -3]\n",
      "[0 0 0]\n"
     ]
    }
   ],
   "source": [
    "print(V1-V2)\n",
    "print(V2-V2)"
   ]
  },
  {
   "cell_type": "markdown",
   "metadata": {},
   "source": [
    "For the dot product of V1 and V2 below we can use the **dot** function of **numpy** as follows"
   ]
  },
  {
   "cell_type": "code",
   "execution_count": 4,
   "metadata": {},
   "outputs": [
    {
     "name": "stdout",
     "output_type": "stream",
     "text": [
      "32\n"
     ]
    }
   ],
   "source": [
    "print(V1.dot(V2))"
   ]
  },
  {
   "cell_type": "markdown",
   "metadata": {},
   "source": [
    "As a small challenge try to write your own function for the **dot** product of two vectors.\n",
    "\n",
    "Matrices can be created in a similar fashion in python.  In this\n",
    "language we can work with them through the package numpy (which we\n",
    "have already imported)"
   ]
  },
  {
   "cell_type": "code",
   "execution_count": 5,
   "metadata": {},
   "outputs": [],
   "source": [
    "M1 = np.matrix([[1,2,3],\n",
    "             [4,5,6],\n",
    "             [7,8,9]])\n",
    "M2 = np.matrix([[1,2],\n",
    "             [3,4],\n",
    "             [5,6]])\n",
    "M3 = np.matrix([[9,8,7],\n",
    "             [4,5,6],\n",
    "             [7,6,9]])"
   ]
  },
  {
   "cell_type": "markdown",
   "metadata": {},
   "source": [
    "Matrices can be added in the same way vectors are added in python as shown here"
   ]
  },
  {
   "cell_type": "code",
   "execution_count": 6,
   "metadata": {},
   "outputs": [
    {
     "name": "stdout",
     "output_type": "stream",
     "text": [
      "M1+M3:  [[10 10 10]\n",
      " [ 8 10 12]\n",
      " [14 14 18]]\n"
     ]
    }
   ],
   "source": [
    "print(\"M1+M3: \", M1+M3)"
   ]
  },
  {
   "cell_type": "markdown",
   "metadata": {},
   "source": [
    "What happens if we try to do $M1+M2$?\n",
    "\n",
    "* 7e (4pt) Let us go back to exercise 6. Define a vector $\\boldsymbol{a}=(1,0,0)$ and set the angle $\\phi$ in the rotation matrix (rotation in the $xy$ plane) to $45$ degrees. Set up the matrix $\\boldsymbol{R}$ and find the vector $\\boldsymbol{b}=\\boldsymbol{R}\\boldsymbol{a}$.\n",
    "\n",
    "To perform a matrix-vector multiplication of the above type, the following python code may be of use. Here we just define a random vector and a random $3\\times 3$ matrix"
   ]
  },
  {
   "cell_type": "code",
   "execution_count": 7,
   "metadata": {},
   "outputs": [
    {
     "name": "stdout",
     "output_type": "stream",
     "text": [
      "[0.0089368  0.13668831 0.00984238]\n",
      "[[0.31016476 0.22971227 0.66553187]\n",
      " [0.1034834  0.1054682  0.45836177]\n",
      " [0.49801998 0.58081708 0.97994307]]\n",
      "[0.04072128 0.01985245 0.09348658]\n"
     ]
    }
   ],
   "source": [
    "import numpy as np\n",
    "#We define a  3 dimensional vector with random numbers\n",
    "n = 3\n",
    "a = np.random.rand(n)\n",
    "# define a matrix of dimension 3 x 3 and set all elements to random numbers with x \\in [0, 1]\n",
    "R = np.random.rand(n, n)\n",
    "#print the vector and the matrix\n",
    "print(a)\n",
    "print(R)\n",
    "# perform a matrix-vector multiplication. Note that we need to transpose the vector and the odd way to indicate a multiplication with @\n",
    "b = R @ a.T\n",
    "print(b)"
   ]
  },
  {
   "cell_type": "markdown",
   "metadata": {},
   "source": [
    "That's enough vectors and matrices for now. Let's move on to some physics problems! Yes, the actual subject we are studying for. \n",
    "\n",
    "We can opt for two different ways of handling the data. The data is listed in the table here and represents the total time Usain Bolt used in steps of  10 meters of distance. The label $i$ is just a counter and we start from zero since Python arrays are by default set from zero. The variable $t$ is time in seconds and $x$ is the position in meters.\n",
    "\n",
    "<table border=\"1\">\n",
    "<thead>\n",
    "<tr><th align=\"center\"> i  </th> <th align=\"center\"> 0  </th> <th align=\"center\"> 1  </th> <th align=\"center\"> 2  </th> <th align=\"center\"> 3  </th> <th align=\"center\"> 4  </th> <th align=\"center\"> 5  </th> <th align=\"center\"> 6  </th> <th align=\"center\"> 7  </th> <th align=\"center\"> 8  </th> <th align=\"center\"> 9  </th> </tr>\n",
    "</thead>\n",
    "<tbody>\n",
    "<tr><td align=\"center\">   x[m]    </td> <td align=\"center\">   10      </td> <td align=\"center\">   20      </td> <td align=\"center\">   30      </td> <td align=\"center\">   40      </td> <td align=\"center\">   50      </td> <td align=\"center\">   60      </td> <td align=\"center\">   70      </td> <td align=\"center\">   80      </td> <td align=\"center\">   90      </td> <td align=\"center\">   100     </td> </tr>\n",
    "<tr><td align=\"center\">   t[s]    </td> <td align=\"center\">   1.85    </td> <td align=\"center\">   2.87    </td> <td align=\"center\">   3.78    </td> <td align=\"center\">   4.65    </td> <td align=\"center\">   5.50    </td> <td align=\"center\">   6.32    </td> <td align=\"center\">   7.14    </td> <td align=\"center\">   7.96    </td> <td align=\"center\">   8.79    </td> <td align=\"center\">   9.69    </td> </tr>\n",
    "</tbody>\n",
    "</table>\n",
    "* 7f (4pt) You can here make a file with the above data and read them in and set up two vectors, one for time and one for position. Alternatively, you can just set up these two vectors directly and define two vectors in your Python code.\n",
    "\n",
    "The following example code may help here"
   ]
  },
  {
   "cell_type": "code",
   "execution_count": 8,
   "metadata": {},
   "outputs": [
    {
     "data": {
      "image/png": "[encoded data removed]",
      "text/plain": [
       "<Figure size 432x288 with 1 Axes>"
      ]
     },
     "metadata": {
      "needs_background": "light"
     },
     "output_type": "display_data"
    }
   ],
   "source": [
    "# we just initialize time and position\n",
    "x = np.array([10.0, 20.0, 30.0, 40.0, 50.0, 60.0, 70.0, 80.0, 90.0, 100.0])\n",
    "t = np.array([1.85, 2.87, 3.78, 4.65, 5.50, 6.32, 7.14, 7.96, 8.79, 9.69])\n",
    "plt.plot(t,x, color='black')\n",
    "plt.xlabel(\"Time t[s]\")\n",
    "plt.ylabel(\"Position x[m]\")\n",
    "plt.title(\"Usain Bolt's world record run\")\n",
    "plt.show()"
   ]
  },
  {
   "cell_type": "markdown",
   "metadata": {},
   "source": [
    "* 7g (4pt) Plot the position as function of time\n",
    "\n",
    "* 7h (10pt) Compute thereafter the mean velocity for every interval $i$ and the total velocity (from $i=0$ to the given interval $i$) for each interval and plot these two quantities as function of time. Comment your results.\n",
    "\n",
    "* 7i (10pt) Finally, compute and plot the mean acceleration for each interval and the total acceleration. Again, comment your results. Can you see whether he slowed down during the last meters?"
   ]
  }
 ],
 "metadata": {
  "kernelspec": {
   "display_name": "Python 3",
   "language": "python",
   "name": "python3"
  },
  "language_info": {
   "codemirror_mode": {
    "name": "ipython",
    "version": 3
   },
   "file_extension": ".py",
   "mimetype": "text/x-python",
   "name": "python",
   "nbconvert_exporter": "python",
   "pygments_lexer": "ipython3",
   "version": "3.8.5"
  }
 },
 "nbformat": 4,
 "nbformat_minor": 4
}
